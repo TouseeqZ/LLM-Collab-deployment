{
  "cells": [
    {
      "cell_type": "markdown",
      "metadata": {
        "id": "view-in-github",
        "colab_type": "text"
      },
      "source": [
        "<a href=\"https://colab.research.google.com/github/TouseeqZ/LLM-Collab-deployment/blob/main/ollama_collab_ngrok.ipynb\" target=\"_parent\"><img src=\"https://colab.research.google.com/assets/colab-badge.svg\" alt=\"Open In Colab\"/></a>"
      ]
    },
    {
      "cell_type": "markdown",
      "source": [
        "Install Ollama"
      ],
      "metadata": {
        "id": "5yO1nW2jldiL"
      }
    },
    {
      "cell_type": "code",
      "source": [
        "# Download and run the Ollama Linux install script\n",
        "!curl -fsSL https://ollama.com/install.sh | sh"
      ],
      "metadata": {
        "colab": {
          "base_uri": "https://localhost:8080/"
        },
        "id": "a8U_QxURlf4r",
        "outputId": "92aada78-07d1-4e14-8e8c-8ec8dab3530f"
      },
      "execution_count": 1,
      "outputs": [
        {
          "output_type": "stream",
          "name": "stdout",
          "text": [
            ">>> Installing ollama to /usr/local\n",
            ">>> Downloading Linux amd64 bundle\n",
            "############################################################################################# 100.0%\n",
            ">>> Creating ollama user...\n",
            ">>> Adding ollama user to video group...\n",
            ">>> Adding current user to ollama group...\n",
            ">>> Creating ollama systemd service...\n",
            "WARNING: Unable to detect NVIDIA/AMD GPU. Install lspci or lshw to automatically detect and install GPU dependencies.\n",
            ">>> The Ollama API is now available at 127.0.0.1:11434.\n",
            ">>> Install complete. Run \"ollama\" from the command line.\n"
          ]
        }
      ]
    },
    {
      "cell_type": "markdown",
      "source": [
        " Retrieve Ngrok Token"
      ],
      "metadata": {
        "id": "uldoUvnIodPS"
      }
    },
    {
      "cell_type": "code",
      "source": [
        "# Get Ngrok authentication token from Colab secrets environment\n",
        "from google.colab import userdata\n",
        "NGROK_AUTH_TOKEN = userdata.get('NGROK_AUTH_TOKEN')"
      ],
      "metadata": {
        "id": "c2SBGNFHocyq"
      },
      "execution_count": 2,
      "outputs": []
    },
    {
      "cell_type": "markdown",
      "source": [
        "Install Dependencies and Set Up Environment"
      ],
      "metadata": {
        "id": "sNcL03Pwo5j5"
      }
    },
    {
      "cell_type": "code",
      "source": [
        "# Install necessary packages: aiohttp for async subprocess execution and pyngrok for Ngrok integration\n",
        "!pip install aiohttp pyngrok\n",
        "\n",
        "import asyncio\n",
        "import os\n",
        "\n",
        "# Set LD_LIBRARY_PATH to prioritize system NVIDIA libraries over built-in ones\n",
        "os.environ.update({'LD_LIBRARY_PATH': '/usr/lib64-nvidia'})\n",
        "\n",
        "# Define an async helper function to run commands asynchronously\n",
        "async def run(cmd):\n",
        "    print('>>> starting', *cmd)\n",
        "    p = await asyncio.subprocess.create_subprocess_exec(\n",
        "        *cmd,\n",
        "        stdout=asyncio.subprocess.PIPE,\n",
        "        stderr=asyncio.subprocess.PIPE\n",
        "    )\n",
        "\n",
        "    # Asynchronously process and print the output and error streams\n",
        "    async def pipe(lines):\n",
        "        async for line in lines:\n",
        "            print(line.strip().decode('utf-8'))\n",
        "\n",
        "    await asyncio.gather(\n",
        "        pipe(p.stdout),\n",
        "        pipe(p.stderr),\n",
        "    )\n",
        "\n",
        "# Authenticate with Ngrok using the token\n",
        "await run(['ngrok', 'config', 'add-authtoken', NGROK_AUTH_TOKEN])"
      ],
      "metadata": {
        "colab": {
          "base_uri": "https://localhost:8080/"
        },
        "id": "JG9WjQWmo60F",
        "outputId": "a1ab2bc1-b8c8-4ff1-c128-2f43e741d73b"
      },
      "execution_count": 3,
      "outputs": [
        {
          "output_type": "stream",
          "name": "stdout",
          "text": [
            "Requirement already satisfied: aiohttp in /usr/local/lib/python3.10/dist-packages (3.10.5)\n",
            "Collecting pyngrok\n",
            "  Downloading pyngrok-7.2.0-py3-none-any.whl.metadata (7.4 kB)\n",
            "Requirement already satisfied: aiohappyeyeballs>=2.3.0 in /usr/local/lib/python3.10/dist-packages (from aiohttp) (2.4.0)\n",
            "Requirement already satisfied: aiosignal>=1.1.2 in /usr/local/lib/python3.10/dist-packages (from aiohttp) (1.3.1)\n",
            "Requirement already satisfied: attrs>=17.3.0 in /usr/local/lib/python3.10/dist-packages (from aiohttp) (24.2.0)\n",
            "Requirement already satisfied: frozenlist>=1.1.1 in /usr/local/lib/python3.10/dist-packages (from aiohttp) (1.4.1)\n",
            "Requirement already satisfied: multidict<7.0,>=4.5 in /usr/local/lib/python3.10/dist-packages (from aiohttp) (6.1.0)\n",
            "Requirement already satisfied: yarl<2.0,>=1.0 in /usr/local/lib/python3.10/dist-packages (from aiohttp) (1.11.1)\n",
            "Requirement already satisfied: async-timeout<5.0,>=4.0 in /usr/local/lib/python3.10/dist-packages (from aiohttp) (4.0.3)\n",
            "Requirement already satisfied: PyYAML>=5.1 in /usr/local/lib/python3.10/dist-packages (from pyngrok) (6.0.2)\n",
            "Requirement already satisfied: typing-extensions>=4.1.0 in /usr/local/lib/python3.10/dist-packages (from multidict<7.0,>=4.5->aiohttp) (4.12.2)\n",
            "Requirement already satisfied: idna>=2.0 in /usr/local/lib/python3.10/dist-packages (from yarl<2.0,>=1.0->aiohttp) (3.10)\n",
            "Downloading pyngrok-7.2.0-py3-none-any.whl (22 kB)\n",
            "Installing collected packages: pyngrok\n",
            "Successfully installed pyngrok-7.2.0\n",
            ">>> starting ngrok config add-authtoken 2mU5lm2KMeB8BmFQyOOWmzpbGOz_724i5RQ5rtsnUEzPJTXEn\n",
            "Authtoken saved to configuration file: /root/.config/ngrok/ngrok.yml\n"
          ]
        }
      ]
    },
    {
      "cell_type": "markdown",
      "source": [
        "Start Ollama Server and Ngrok Tunnel"
      ],
      "metadata": {
        "id": "-W2xThL7qVFE"
      }
    },
    {
      "cell_type": "code",
      "source": [
        "# Run multiple tasks concurrently:\n",
        "# 1. Start the Ollama server.\n",
        "# 2. Start Ngrok to forward HTTP traffic from the local Ollama API running on localhost:11434.\n",
        "await asyncio.gather(\n",
        "    run(['ollama', 'serve']),\n",
        "    run(['ngrok', 'http', '--log', 'stderr', '11434', '--host-header', 'localhost:11434']),\n",
        "    # Uncomment the next line and replace with your Ngrok domain if using a static URL\n",
        "    # run(['ngrok', 'http', '--log', 'stderr', '11434', '--host-header', 'localhost:11434', '--domain', 'insert-your-static-ngrok-domain-here']),\n",
        ")"
      ],
      "metadata": {
        "colab": {
          "base_uri": "https://localhost:8080/"
        },
        "id": "n2Qi9QBtqVz-",
        "outputId": "5ca117ba-c710-4962-94db-439371678b96"
      },
      "execution_count": null,
      "outputs": [
        {
          "output_type": "stream",
          "name": "stdout",
          "text": [
            ">>> starting ollama serve\n",
            ">>> starting ngrok http --log stderr 11434 --host-header localhost:11434\n",
            "Couldn't find '/root/.ollama/id_ed25519'. Generating new private key.\n",
            "Your new public key is:\n",
            "\n",
            "ssh-ed25519 AAAAC3NzaC1lZDI1NTE5AAAAIN7Bi8EU1hMgsSPu4z1YwatZP7rdiN1lL5jhcH2ldg6d\n",
            "\n",
            "2024/09/25 10:38:41 routes.go:1153: INFO server config env=\"map[CUDA_VISIBLE_DEVICES: GPU_DEVICE_ORDINAL: HIP_VISIBLE_DEVICES: HSA_OVERRIDE_GFX_VERSION: HTTPS_PROXY: HTTP_PROXY: NO_PROXY: OLLAMA_DEBUG:false OLLAMA_FLASH_ATTENTION:false OLLAMA_GPU_OVERHEAD:0 OLLAMA_HOST:http://127.0.0.1:11434 OLLAMA_INTEL_GPU:false OLLAMA_KEEP_ALIVE:5m0s OLLAMA_LLM_LIBRARY: OLLAMA_LOAD_TIMEOUT:5m0s OLLAMA_MAX_LOADED_MODELS:0 OLLAMA_MAX_QUEUE:512 OLLAMA_MODELS:/root/.ollama/models OLLAMA_NOHISTORY:false OLLAMA_NOPRUNE:false OLLAMA_NUM_PARALLEL:0 OLLAMA_ORIGINS:[http://localhost https://localhost http://localhost:* https://localhost:* http://127.0.0.1 https://127.0.0.1 http://127.0.0.1:* https://127.0.0.1:* http://0.0.0.0 https://0.0.0.0 http://0.0.0.0:* https://0.0.0.0:* app://* file://* tauri://*] OLLAMA_SCHED_SPREAD:false OLLAMA_TMPDIR: ROCR_VISIBLE_DEVICES: http_proxy: https_proxy: no_proxy:]\"\n",
            "time=2024-09-25T10:38:41.802Z level=INFO source=images.go:753 msg=\"total blobs: 0\"\n",
            "time=2024-09-25T10:38:41.802Z level=INFO source=images.go:760 msg=\"total unused blobs removed: 0\"\n",
            "time=2024-09-25T10:38:41.803Z level=INFO source=routes.go:1200 msg=\"Listening on 127.0.0.1:11434 (version 0.3.11)\"\n",
            "time=2024-09-25T10:38:41.803Z level=INFO source=common.go:135 msg=\"extracting embedded files\" dir=/tmp/ollama2624506025/runners\n",
            "t=2024-09-25T10:38:41+0000 lvl=info msg=\"no configuration paths supplied\"\n",
            "t=2024-09-25T10:38:41+0000 lvl=info msg=\"using configuration at default config path\" path=/root/.config/ngrok/ngrok.yml\n",
            "t=2024-09-25T10:38:41+0000 lvl=info msg=\"open config file\" path=/root/.config/ngrok/ngrok.yml err=nil\n",
            "t=2024-09-25T10:38:42+0000 lvl=info msg=\"starting web service\" obj=web addr=127.0.0.1:4040 allow_hosts=[]\n",
            "t=2024-09-25T10:38:42+0000 lvl=info msg=\"client session established\" obj=tunnels.session\n",
            "t=2024-09-25T10:38:42+0000 lvl=info msg=\"tunnel session started\" obj=tunnels.session\n",
            "t=2024-09-25T10:38:42+0000 lvl=info msg=\"started tunnel\" obj=tunnels name=command_line addr=http://localhost:11434 url=https://dbb0-34-145-118-161.ngrok-free.app\n",
            "time=2024-09-25T10:39:19.507Z level=INFO source=common.go:49 msg=\"Dynamic LLM libraries\" runners=\"[cpu_avx2 cuda_v11 cuda_v12 rocm_v60102 cpu cpu_avx]\"\n",
            "time=2024-09-25T10:39:19.508Z level=INFO source=gpu.go:199 msg=\"looking for compatible GPUs\"\n",
            "time=2024-09-25T10:39:19.861Z level=INFO source=types.go:107 msg=\"inference compute\" id=GPU-4b723a59-a1d2-e91b-4456-e067113a23c4 library=cuda variant=v12 compute=7.5 driver=12.2 name=\"Tesla T4\" total=\"14.7 GiB\" available=\"14.6 GiB\"\n",
            "t=2024-09-25T10:39:32+0000 lvl=info msg=\"join connections\" obj=join id=0e69328deada l=127.0.0.1:11434 r=103.151.43.71:52464\n",
            "[GIN] 2024/09/25 - 10:39:32 | 200 |      59.988µs |   103.151.43.71 | GET      \"/\"\n"
          ]
        }
      ]
    }
  ],
  "metadata": {
    "accelerator": "GPU",
    "colab": {
      "gpuType": "T4",
      "provenance": [],
      "include_colab_link": true
    },
    "kernelspec": {
      "display_name": "Python 3",
      "name": "python3"
    },
    "language_info": {
      "name": "python"
    }
  },
  "nbformat": 4,
  "nbformat_minor": 0
}